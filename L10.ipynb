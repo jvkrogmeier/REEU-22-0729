{
 "cells": [
  {
   "cell_type": "markdown",
   "metadata": {},
   "source": [
    "# Lecture 10 (Lecture 9 was Sneha Jha's Mercer+Hall Presentation)\n",
    "\n",
    "## Topics we still need to cover\n",
    " - Using Pandas to Solve HW Problem from L8\n",
    " \n",
    "For more detail on python please see the Purdue DataMine web link: <a href=\"https://thedatamine.github.io/the-examples-book/python.html\" target=\"_blank\">Data Mine on Python</a>\n",
    "\n",
    "Also see: <a href=\"https://docs.python.org/3/\" target=\"_blank\">Python 3.9.1 Documentation</a>"
   ]
  },
  {
   "cell_type": "code",
   "execution_count": null,
   "metadata": {},
   "outputs": [],
   "source": [
    "# Bring in the packages we have used before.\n",
    "\n",
    "import math\n",
    "import numpy as np\n",
    "import matplotlib as mpl\n",
    "import matplotlib.pyplot as plt\n",
    "import requests\n",
    "import pandas as pd"
   ]
  },
  {
   "cell_type": "code",
   "execution_count": null,
   "metadata": {},
   "outputs": [],
   "source": []
  },
  {
   "cell_type": "markdown",
   "metadata": {},
   "source": [
    "## A HW problem: Use the average wheat yields data from L5 and the FIPS dictionary from L6 with the mapping methods above to create maps of county average wheat yields for any specified year ...\n",
    "\n",
    "### Could you make a movie (a series of maps) over time?\n",
    "\n",
    "### Could you find a real map projection rather than our poor Smith Center scaling approach?"
   ]
  },
  {
   "cell_type": "code",
   "execution_count": null,
   "metadata": {},
   "outputs": [],
   "source": [
    "# The read csv command from pandas replaces a fair bit of code we had\n",
    "# previously required ...\n",
    "\n",
    "WheatYields = pd.read_csv('Data/WheatYields--Wrangled.csv')\n",
    "CitiesAndTowns = pd.read_csv('Data/Wrangled-cities-and-towns-of-the-united-states.csv')"
   ]
  },
  {
   "cell_type": "markdown",
   "metadata": {},
   "source": [
    "### What are the contents of these DataFrames?"
   ]
  },
  {
   "cell_type": "code",
   "execution_count": null,
   "metadata": {},
   "outputs": [],
   "source": [
    "WheatYields"
   ]
  },
  {
   "cell_type": "code",
   "execution_count": null,
   "metadata": {},
   "outputs": [],
   "source": [
    "CitiesAndTowns"
   ]
  },
  {
   "cell_type": "markdown",
   "metadata": {},
   "source": [
    "## What I'd like to do ...\n",
    "\n",
    "### Merge these two tables to create a single table with the following columns ...\n",
    "\n",
    "Year, State Ansi/Fips, County Ansi/Fips, Latitude, Longitude, Value (wheat yield in bu/acre)\n",
    "\n",
    "This really amounts to deleting certain columns from the WheatYields dataframe and adding the columns for latitude and longitude\n",
    "\n",
    "### But first, let's use these as examples to explore operations in pandas ...\n",
    "\n",
    "`CitiesAndTowns` and `WheatYields` are examples of dataframes. Think of these as either a generalization of a numpy array or as a specialization of a python dictionary.\n",
    "\n",
    "The values in a dataframe are typed in the sense that the elements in a single column must be of the same type. In addition, a dataframe has associated index and columns ...\n",
    "\n",
    "### DataFrame as generalized numpy array ..."
   ]
  },
  {
   "cell_type": "code",
   "execution_count": null,
   "metadata": {},
   "outputs": [],
   "source": [
    "# The index attribute ...\n",
    "\n",
    "CitiesAndTowns.index"
   ]
  },
  {
   "cell_type": "code",
   "execution_count": null,
   "metadata": {},
   "outputs": [],
   "source": [
    "print(WheatYields.index)\n",
    "print(type(WheatYields.index))"
   ]
  },
  {
   "cell_type": "code",
   "execution_count": null,
   "metadata": {},
   "outputs": [],
   "source": [
    "# The columns attribute\n",
    "\n",
    "CitiesAndTowns.columns"
   ]
  },
  {
   "cell_type": "code",
   "execution_count": null,
   "metadata": {},
   "outputs": [],
   "source": [
    "WheatYields.columns"
   ]
  },
  {
   "cell_type": "code",
   "execution_count": null,
   "metadata": {},
   "outputs": [],
   "source": [
    "type(CitiesAndTowns.columns)"
   ]
  },
  {
   "cell_type": "markdown",
   "metadata": {},
   "source": [
    "### DataFrame as specialized dictionary\n",
    "\n",
    "A dictionary maps a key to a value; a DataFrame maps a column name to a Series of column data ..."
   ]
  },
  {
   "cell_type": "code",
   "execution_count": null,
   "metadata": {},
   "outputs": [],
   "source": [
    "# In this sense each column is a pandas Series ...\n",
    "\n",
    "print(type(WheatYields['County']))\n",
    "\n",
    "WheatYields['County']"
   ]
  },
  {
   "cell_type": "code",
   "execution_count": null,
   "metadata": {},
   "outputs": [],
   "source": [
    "print(type(WheatYields['Value']))\n",
    "\n",
    "WheatYields['Value']"
   ]
  },
  {
   "cell_type": "markdown",
   "metadata": {},
   "source": [
    "### There are a number of ways to construct DataFrames, but we have two of them already, so maybe more interested in this later. The ways are:\n",
    "\n",
    "- From a Series\n",
    "- From a list of dictionaries\n",
    "- From a dictionary of Series objects\n",
    "- From a two-dimensional numpy array\n",
    "- From a numpy structured array\n",
    "\n",
    "Come back to these later ...\n",
    "\n",
    "## Data Indexing and Selection with DataFrames ...\n",
    "\n",
    "Recall some of the ways to access, set, and modify values in a numpy array. These include\n",
    "\n",
    "- indexing ... e.g., array[3,7]\n",
    "- slicing ... e.g., array[:,3:11]\n",
    "- masking ... e.g., array[array > 0}"
   ]
  },
  {
   "cell_type": "code",
   "execution_count": null,
   "metadata": {},
   "outputs": [],
   "source": [
    "# Explore this for Series. Construct one from our DataFrames ...\n",
    "\n",
    "LatSeries = CitiesAndTowns['LATITUDE']\n",
    "print(LatSeries)"
   ]
  },
  {
   "cell_type": "code",
   "execution_count": null,
   "metadata": {},
   "outputs": [],
   "source": [
    "LatSeries.keys()"
   ]
  },
  {
   "cell_type": "code",
   "execution_count": null,
   "metadata": {},
   "outputs": [],
   "source": [
    "LatSeries[4]"
   ]
  },
  {
   "cell_type": "code",
   "execution_count": null,
   "metadata": {},
   "outputs": [],
   "source": [
    "print(list(LatSeries.items()))"
   ]
  },
  {
   "cell_type": "code",
   "execution_count": null,
   "metadata": {},
   "outputs": [],
   "source": [
    "# Slicing\n",
    "\n",
    "LatSeries[1:7]"
   ]
  },
  {
   "cell_type": "code",
   "execution_count": null,
   "metadata": {},
   "outputs": [],
   "source": [
    "# Masking ...\n",
    "\n",
    "LatSeries[(LatSeries > 40.0) & (LatSeries < 42.0)]"
   ]
  },
  {
   "cell_type": "markdown",
   "metadata": {},
   "source": [
    "There is some danger of confusion between the explicit index and an implicit index. This comes up when the index set is a range as it is in these two examples. In order to avoid such problems it is recommended to use the following indexers ...\n",
    "\n",
    "- loc -->\n",
    "- iloc -->\n",
    "- ix -->"
   ]
  },
  {
   "cell_type": "code",
   "execution_count": null,
   "metadata": {},
   "outputs": [],
   "source": [
    "LatSeries"
   ]
  },
  {
   "cell_type": "code",
   "execution_count": null,
   "metadata": {},
   "outputs": [],
   "source": [
    "print(LatSeries.loc[1])\n",
    "print(LatSeries.iloc[1])"
   ]
  },
  {
   "cell_type": "code",
   "execution_count": null,
   "metadata": {},
   "outputs": [],
   "source": [
    "print(LatSeries.loc[1:3])\n",
    "print(LatSeries.iloc[1:3])"
   ]
  },
  {
   "cell_type": "markdown",
   "metadata": {},
   "source": [
    "### Suppose you wanted to make a combined FIPs ....\n",
    "\n",
    "Let the integer FIPs be defined by putting the state FIPs into the 1000s place and letting the county FIPS represent a number between 1 and 999 ..."
   ]
  },
  {
   "cell_type": "code",
   "execution_count": null,
   "metadata": {},
   "outputs": [],
   "source": [
    "CitiesAndTowns['CombinedFIPS'] = 1000*CitiesAndTowns['STATE FIPS'] + CitiesAndTowns['COUNTY FIPS']\n",
    "WheatYields['CombinedFIPS'] = 1000*WheatYields['State ANSI'] + WheatYields['County ANSI']"
   ]
  },
  {
   "cell_type": "code",
   "execution_count": null,
   "metadata": {},
   "outputs": [],
   "source": [
    "CitiesAndTowns"
   ]
  },
  {
   "cell_type": "code",
   "execution_count": null,
   "metadata": {},
   "outputs": [],
   "source": [
    "WheatYields"
   ]
  },
  {
   "cell_type": "markdown",
   "metadata": {},
   "source": [
    "### A few more examples ..."
   ]
  },
  {
   "cell_type": "code",
   "execution_count": null,
   "metadata": {},
   "outputs": [],
   "source": [
    "CitiesAndTowns.values"
   ]
  },
  {
   "cell_type": "code",
   "execution_count": null,
   "metadata": {},
   "outputs": [],
   "source": [
    "CitiesAndTowns.T"
   ]
  },
  {
   "cell_type": "code",
   "execution_count": null,
   "metadata": {},
   "outputs": [],
   "source": [
    "CitiesAndTowns"
   ]
  },
  {
   "cell_type": "code",
   "execution_count": null,
   "metadata": {},
   "outputs": [],
   "source": [
    "CitiesAndTowns.loc[CitiesAndTowns.LATITUDE > 42.0, ['LATITUDE', 'LONGITUDE']]"
   ]
  },
  {
   "cell_type": "code",
   "execution_count": null,
   "metadata": {},
   "outputs": [],
   "source": [
    "WheatYields.loc[WheatYields.Year == 2007, :]"
   ]
  },
  {
   "cell_type": "markdown",
   "metadata": {},
   "source": [
    "### There is a lot of superfluous information ... Pare it down to simplify"
   ]
  },
  {
   "cell_type": "code",
   "execution_count": null,
   "metadata": {},
   "outputs": [],
   "source": [
    "NewWheatYields = WheatYields.loc[:, ['Year', 'Value', 'CombinedFIPS']]\n",
    "NewWheatYields"
   ]
  },
  {
   "cell_type": "code",
   "execution_count": null,
   "metadata": {},
   "outputs": [],
   "source": [
    "CitiesAndTowns"
   ]
  },
  {
   "cell_type": "code",
   "execution_count": null,
   "metadata": {},
   "outputs": [],
   "source": [
    "CitiesAndTowns['FEATURE2'].unique()"
   ]
  },
  {
   "cell_type": "code",
   "execution_count": null,
   "metadata": {},
   "outputs": [],
   "source": [
    "CitiesAndTowns.loc[(CitiesAndTowns.FEATURE2 == 'County Seat') | (CitiesAndTowns.FEATURE2 == 'State Capital County Seat'), :]"
   ]
  },
  {
   "cell_type": "code",
   "execution_count": null,
   "metadata": {},
   "outputs": [],
   "source": [
    "NewCitiesAndTowns = CitiesAndTowns.loc[(CitiesAndTowns.FEATURE2 == 'County Seat') | (CitiesAndTowns.FEATURE2 == 'State Capital County Seat'), ['LATITUDE', 'LONGITUDE', 'CombinedFIPS']]\n",
    "NewCitiesAndTowns"
   ]
  },
  {
   "cell_type": "code",
   "execution_count": null,
   "metadata": {},
   "outputs": [],
   "source": [
    "Blah = pd.merge(NewCitiesAndTowns, NewWheatYields)"
   ]
  },
  {
   "cell_type": "code",
   "execution_count": null,
   "metadata": {},
   "outputs": [],
   "source": [
    "Blah"
   ]
  },
  {
   "cell_type": "code",
   "execution_count": null,
   "metadata": {},
   "outputs": [],
   "source": [
    "Blah.loc[Blah.Year == 1999,:]"
   ]
  },
  {
   "cell_type": "code",
   "execution_count": null,
   "metadata": {},
   "outputs": [],
   "source": [
    "dv = Blah.loc[Blah.Year == 1999,'Value']\n",
    "dlat = Blah.loc[Blah.Year == 1999,'LATITUDE']\n",
    "dlon = Blah.loc[Blah.Year == 1999,'LONGITUDE']\n",
    "type(dv)"
   ]
  },
  {
   "cell_type": "code",
   "execution_count": null,
   "metadata": {},
   "outputs": [],
   "source": [
    "fig = plt.figure()\n",
    "plt.style.use('classic')\n",
    "plt.scatter(dlon, dlat, c=dv, cmap='cool')\n",
    "plt.colorbar()\n",
    "plt.title(\"U.S. County Average Wheat (bu/acre)\")\n",
    "plt.xlabel(\"Longitude Degrees\")\n",
    "plt.ylabel(\"Latitude Degrees\")\n",
    "plt.grid()"
   ]
  },
  {
   "cell_type": "code",
   "execution_count": null,
   "metadata": {},
   "outputs": [],
   "source": []
  },
  {
   "cell_type": "code",
   "execution_count": null,
   "metadata": {},
   "outputs": [],
   "source": []
  },
  {
   "cell_type": "code",
   "execution_count": null,
   "metadata": {},
   "outputs": [],
   "source": []
  }
 ],
 "metadata": {
  "kernelspec": {
   "display_name": "Python 3",
   "language": "python",
   "name": "python3"
  },
  "language_info": {
   "codemirror_mode": {
    "name": "ipython",
    "version": 3
   },
   "file_extension": ".py",
   "mimetype": "text/x-python",
   "name": "python",
   "nbconvert_exporter": "python",
   "pygments_lexer": "ipython3",
   "version": "3.8.8"
  }
 },
 "nbformat": 4,
 "nbformat_minor": 2
}
